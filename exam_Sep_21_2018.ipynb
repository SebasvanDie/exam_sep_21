{
 "cells": [
  {
   "cell_type": "markdown",
   "metadata": {},
   "source": [
    "Before you turn this problem in, make sure everything runs as expected. First, **restart the kernel** (in the menubar, select Kernel$\\rightarrow$Restart) and then **run all cells** (in the menubar, select Cell$\\rightarrow$Run All).\n",
    "\n",
    "Make sure you fill in any place that says `YOUR CODE HERE` or \"YOUR ANSWER HERE\", as well as your name and collaborators below:"
   ]
  },
  {
   "cell_type": "code",
   "execution_count": null,
   "metadata": {},
   "outputs": [],
   "source": [
    "NAME = \"Sebastiaan van Die, 2011278\"\n",
    "COLLABORATORS = \"\""
   ]
  },
  {
   "cell_type": "markdown",
   "metadata": {},
   "source": [
    "---"
   ]
  },
  {
   "cell_type": "markdown",
   "metadata": {
    "deletable": false,
    "editable": false,
    "nbgrader": {
     "checksum": "e53eb7da4b90cccdbeb5924177a0d295",
     "grade": false,
     "grade_id": "cell-bace731f185b39bb",
     "locked": true,
     "schema_version": 1,
     "solution": false
    }
   },
   "source": [
    "Fill in the cell above to provide us with your name and student number, like\n",
    "\n",
    "NAME = \"Adam Smith, #student number#\"\n",
    "\n",
    "where you replace \"#student number#\" with your ... (very good!)\n",
    "\n",
    "Unfortunately, you are not allowed to work with \"COLLABORATORS\" in this exam."
   ]
  },
  {
   "cell_type": "markdown",
   "metadata": {
    "deletable": false,
    "editable": false,
    "nbgrader": {
     "checksum": "54f2a7cc5a4285f9082c5f4f2ff532f6",
     "grade": false,
     "grade_id": "cell-895e9a7b94992ec9",
     "locked": true,
     "schema_version": 1,
     "solution": false
    }
   },
   "source": [
    "# exam September 21st, 2018\n",
    "\n",
    "With this python part of the exam you can earn at max. 4 points.\n",
    "\n"
   ]
  },
  {
   "cell_type": "markdown",
   "metadata": {
    "deletable": false,
    "editable": false,
    "nbgrader": {
     "checksum": "611902f9d15318425217ea7c9329d3c4",
     "grade": false,
     "grade_id": "cell-540987818af25557",
     "locked": true,
     "schema_version": 1,
     "solution": false
    }
   },
   "source": [
    "\n",
    "In the first cell of the notebook, give us your name and student number in the way indicated above. \n",
    "\n",
    "Fill in the notebook (see below for code cells and text cells that you need to fill in).\n",
    "\n",
    "If you look at the menus above (File, Edit, View etc.), there is one called \"Cell\". If you click on this, you can change the \"Cell Type\". Choose \"Code\" when you are typing python or R code. Choose \"Markdown\" when you are typing, well, markdown.\n",
    "\n",
    "When you finish the notebook, make sure that you **save it with the output of your code included**. \n",
    "\n",
    "Then put it on github, e.g. by dragging it onto github (see instructions below). \n",
    "\n",
    "Finally, add a link to your README file with the name of this exam: \"Exam September 21, 2018\".\n",
    "\n"
   ]
  },
  {
   "cell_type": "markdown",
   "metadata": {
    "deletable": false,
    "editable": false,
    "nbgrader": {
     "checksum": "fbb9342b1fc9100447270d34e2af2d0b",
     "grade": false,
     "grade_id": "cell-e1cf88cb799f1f43",
     "locked": true,
     "schema_version": 1,
     "solution": false
    }
   },
   "source": [
    "## Generating and plotting data\n",
    "\n",
    "We start by importing the usual libraries."
   ]
  },
  {
   "cell_type": "code",
   "execution_count": 85,
   "metadata": {
    "deletable": false,
    "editable": false,
    "nbgrader": {
     "checksum": "7bd770ef54db47c3b6c8d0e31f6baef6",
     "grade": false,
     "grade_id": "cell-b895769bf40e183a",
     "locked": true,
     "schema_version": 1,
     "solution": false
    }
   },
   "outputs": [],
   "source": [
    "import matplotlib.pyplot as plt\n",
    "import pandas as pd\n",
    "import numpy as np\n",
    "from scipy import optimize\n",
    "%matplotlib inline"
   ]
  },
  {
   "cell_type": "markdown",
   "metadata": {
    "deletable": false,
    "editable": false,
    "nbgrader": {
     "checksum": "1133b2e8cbde213d1adfe10ae743bcb3",
     "grade": false,
     "grade_id": "cell-83284c4090d6de8c",
     "locked": true,
     "schema_version": 1,
     "solution": false
    }
   },
   "source": [
    "#### a) [0.5 point] Explain in words what the following code does. "
   ]
  },
  {
   "cell_type": "code",
   "execution_count": 86,
   "metadata": {
    "deletable": false,
    "editable": false,
    "nbgrader": {
     "checksum": "bc85672d4250f9fa3da40069544edd8a",
     "grade": false,
     "grade_id": "cell-7770128c0a989c60",
     "locked": true,
     "schema_version": 1,
     "solution": false
    }
   },
   "outputs": [],
   "source": [
    "n_observations = 100\n",
    "x = np.random.uniform(0,2,size=n_observations)\n",
    "df = pd.DataFrame({'x': x})"
   ]
  },
  {
   "cell_type": "markdown",
   "metadata": {
    "deletable": false,
    "nbgrader": {
     "checksum": "cae5873581f8c1e95ad12b5596742e37",
     "grade": true,
     "grade_id": "cell-8a5761555a34b60b",
     "locked": false,
     "points": 0.5,
     "schema_version": 1,
     "solution": true
    }
   },
   "source": [
    "The code creates a Dataframe called df in which there are 100 obvervations called x. the numbers are randomly generated between 0 and 2"
   ]
  },
  {
   "cell_type": "markdown",
   "metadata": {
    "deletable": false,
    "editable": false,
    "nbgrader": {
     "checksum": "30021008cb6073d160066f0435f60950",
     "grade": false,
     "grade_id": "cell-1a9c57d4d1fc34dc",
     "locked": true,
     "schema_version": 1,
     "solution": false
    }
   },
   "source": [
    "Now we are going to add some columns to the dataframe `df`."
   ]
  },
  {
   "cell_type": "markdown",
   "metadata": {
    "deletable": false,
    "editable": false,
    "nbgrader": {
     "checksum": "89171c99b0cc926935c561c0e75d0eef",
     "grade": false,
     "grade_id": "cell-3b8ee172d9950128",
     "locked": true,
     "schema_version": 1,
     "solution": false
    }
   },
   "source": [
    "#### b) [0.5 points] Add two columns to the data frame: (i) column `y` where $y=3*x+5$ and (ii) column `z` where $z = (x-1)^2$."
   ]
  },
  {
   "cell_type": "code",
   "execution_count": 87,
   "metadata": {
    "deletable": false,
    "nbgrader": {
     "checksum": "3b93c97ec42f6da5773b2c6beb2a8ec2",
     "grade": true,
     "grade_id": "cell-a5e7853f661e19b2",
     "locked": false,
     "points": 0.5,
     "schema_version": 1,
     "solution": true
    }
   },
   "outputs": [
    {
     "data": {
      "text/html": [
       "<div>\n",
       "<table border=\"1\" class=\"dataframe\">\n",
       "  <thead>\n",
       "    <tr style=\"text-align: right;\">\n",
       "      <th></th>\n",
       "      <th>x</th>\n",
       "      <th>y</th>\n",
       "      <th>z</th>\n",
       "    </tr>\n",
       "  </thead>\n",
       "  <tbody>\n",
       "    <tr>\n",
       "      <th>0</th>\n",
       "      <td>1.215676</td>\n",
       "      <td>8.647029</td>\n",
       "      <td>0.046516</td>\n",
       "    </tr>\n",
       "    <tr>\n",
       "      <th>1</th>\n",
       "      <td>1.245387</td>\n",
       "      <td>8.736160</td>\n",
       "      <td>0.060215</td>\n",
       "    </tr>\n",
       "    <tr>\n",
       "      <th>2</th>\n",
       "      <td>0.373310</td>\n",
       "      <td>6.119930</td>\n",
       "      <td>0.392740</td>\n",
       "    </tr>\n",
       "    <tr>\n",
       "      <th>3</th>\n",
       "      <td>0.633105</td>\n",
       "      <td>6.899314</td>\n",
       "      <td>0.134612</td>\n",
       "    </tr>\n",
       "    <tr>\n",
       "      <th>4</th>\n",
       "      <td>0.880720</td>\n",
       "      <td>7.642161</td>\n",
       "      <td>0.014228</td>\n",
       "    </tr>\n",
       "    <tr>\n",
       "      <th>5</th>\n",
       "      <td>1.270579</td>\n",
       "      <td>8.811737</td>\n",
       "      <td>0.073213</td>\n",
       "    </tr>\n",
       "    <tr>\n",
       "      <th>6</th>\n",
       "      <td>1.305164</td>\n",
       "      <td>8.915492</td>\n",
       "      <td>0.093125</td>\n",
       "    </tr>\n",
       "    <tr>\n",
       "      <th>7</th>\n",
       "      <td>1.988547</td>\n",
       "      <td>10.965640</td>\n",
       "      <td>0.977225</td>\n",
       "    </tr>\n",
       "    <tr>\n",
       "      <th>8</th>\n",
       "      <td>0.795484</td>\n",
       "      <td>7.386452</td>\n",
       "      <td>0.041827</td>\n",
       "    </tr>\n",
       "    <tr>\n",
       "      <th>9</th>\n",
       "      <td>0.657217</td>\n",
       "      <td>6.971650</td>\n",
       "      <td>0.117500</td>\n",
       "    </tr>\n",
       "    <tr>\n",
       "      <th>10</th>\n",
       "      <td>0.291484</td>\n",
       "      <td>5.874453</td>\n",
       "      <td>0.501994</td>\n",
       "    </tr>\n",
       "    <tr>\n",
       "      <th>11</th>\n",
       "      <td>1.497313</td>\n",
       "      <td>9.491940</td>\n",
       "      <td>0.247320</td>\n",
       "    </tr>\n",
       "    <tr>\n",
       "      <th>12</th>\n",
       "      <td>1.082202</td>\n",
       "      <td>8.246607</td>\n",
       "      <td>0.006757</td>\n",
       "    </tr>\n",
       "    <tr>\n",
       "      <th>13</th>\n",
       "      <td>1.510965</td>\n",
       "      <td>9.532895</td>\n",
       "      <td>0.261085</td>\n",
       "    </tr>\n",
       "    <tr>\n",
       "      <th>14</th>\n",
       "      <td>1.432264</td>\n",
       "      <td>9.296793</td>\n",
       "      <td>0.186852</td>\n",
       "    </tr>\n",
       "    <tr>\n",
       "      <th>15</th>\n",
       "      <td>1.902797</td>\n",
       "      <td>10.708390</td>\n",
       "      <td>0.815042</td>\n",
       "    </tr>\n",
       "    <tr>\n",
       "      <th>16</th>\n",
       "      <td>0.416264</td>\n",
       "      <td>6.248791</td>\n",
       "      <td>0.340748</td>\n",
       "    </tr>\n",
       "    <tr>\n",
       "      <th>17</th>\n",
       "      <td>1.342218</td>\n",
       "      <td>9.026654</td>\n",
       "      <td>0.117113</td>\n",
       "    </tr>\n",
       "    <tr>\n",
       "      <th>18</th>\n",
       "      <td>0.845850</td>\n",
       "      <td>7.537550</td>\n",
       "      <td>0.023762</td>\n",
       "    </tr>\n",
       "    <tr>\n",
       "      <th>19</th>\n",
       "      <td>0.023760</td>\n",
       "      <td>5.071280</td>\n",
       "      <td>0.953045</td>\n",
       "    </tr>\n",
       "    <tr>\n",
       "      <th>20</th>\n",
       "      <td>0.700170</td>\n",
       "      <td>7.100511</td>\n",
       "      <td>0.089898</td>\n",
       "    </tr>\n",
       "    <tr>\n",
       "      <th>21</th>\n",
       "      <td>1.036225</td>\n",
       "      <td>8.108676</td>\n",
       "      <td>0.001312</td>\n",
       "    </tr>\n",
       "    <tr>\n",
       "      <th>22</th>\n",
       "      <td>0.802753</td>\n",
       "      <td>7.408259</td>\n",
       "      <td>0.038906</td>\n",
       "    </tr>\n",
       "    <tr>\n",
       "      <th>23</th>\n",
       "      <td>0.066923</td>\n",
       "      <td>5.200768</td>\n",
       "      <td>0.870633</td>\n",
       "    </tr>\n",
       "    <tr>\n",
       "      <th>24</th>\n",
       "      <td>0.062627</td>\n",
       "      <td>5.187881</td>\n",
       "      <td>0.878668</td>\n",
       "    </tr>\n",
       "    <tr>\n",
       "      <th>25</th>\n",
       "      <td>1.311070</td>\n",
       "      <td>8.933211</td>\n",
       "      <td>0.096765</td>\n",
       "    </tr>\n",
       "    <tr>\n",
       "      <th>26</th>\n",
       "      <td>0.505147</td>\n",
       "      <td>6.515441</td>\n",
       "      <td>0.244880</td>\n",
       "    </tr>\n",
       "    <tr>\n",
       "      <th>27</th>\n",
       "      <td>1.534074</td>\n",
       "      <td>9.602221</td>\n",
       "      <td>0.285235</td>\n",
       "    </tr>\n",
       "    <tr>\n",
       "      <th>28</th>\n",
       "      <td>0.647073</td>\n",
       "      <td>6.941219</td>\n",
       "      <td>0.124557</td>\n",
       "    </tr>\n",
       "    <tr>\n",
       "      <th>29</th>\n",
       "      <td>1.146232</td>\n",
       "      <td>8.438695</td>\n",
       "      <td>0.021384</td>\n",
       "    </tr>\n",
       "    <tr>\n",
       "      <th>...</th>\n",
       "      <td>...</td>\n",
       "      <td>...</td>\n",
       "      <td>...</td>\n",
       "    </tr>\n",
       "    <tr>\n",
       "      <th>70</th>\n",
       "      <td>1.673178</td>\n",
       "      <td>10.019533</td>\n",
       "      <td>0.453168</td>\n",
       "    </tr>\n",
       "    <tr>\n",
       "      <th>71</th>\n",
       "      <td>1.819661</td>\n",
       "      <td>10.458983</td>\n",
       "      <td>0.671844</td>\n",
       "    </tr>\n",
       "    <tr>\n",
       "      <th>72</th>\n",
       "      <td>1.456491</td>\n",
       "      <td>9.369472</td>\n",
       "      <td>0.208384</td>\n",
       "    </tr>\n",
       "    <tr>\n",
       "      <th>73</th>\n",
       "      <td>0.026892</td>\n",
       "      <td>5.080677</td>\n",
       "      <td>0.946939</td>\n",
       "    </tr>\n",
       "    <tr>\n",
       "      <th>74</th>\n",
       "      <td>0.122451</td>\n",
       "      <td>5.367353</td>\n",
       "      <td>0.770092</td>\n",
       "    </tr>\n",
       "    <tr>\n",
       "      <th>75</th>\n",
       "      <td>0.877854</td>\n",
       "      <td>7.633563</td>\n",
       "      <td>0.014920</td>\n",
       "    </tr>\n",
       "    <tr>\n",
       "      <th>76</th>\n",
       "      <td>1.065057</td>\n",
       "      <td>8.195171</td>\n",
       "      <td>0.004232</td>\n",
       "    </tr>\n",
       "    <tr>\n",
       "      <th>77</th>\n",
       "      <td>1.081475</td>\n",
       "      <td>8.244425</td>\n",
       "      <td>0.006638</td>\n",
       "    </tr>\n",
       "    <tr>\n",
       "      <th>78</th>\n",
       "      <td>1.315548</td>\n",
       "      <td>8.946645</td>\n",
       "      <td>0.099571</td>\n",
       "    </tr>\n",
       "    <tr>\n",
       "      <th>79</th>\n",
       "      <td>1.140238</td>\n",
       "      <td>8.420714</td>\n",
       "      <td>0.019667</td>\n",
       "    </tr>\n",
       "    <tr>\n",
       "      <th>80</th>\n",
       "      <td>0.003898</td>\n",
       "      <td>5.011695</td>\n",
       "      <td>0.992218</td>\n",
       "    </tr>\n",
       "    <tr>\n",
       "      <th>81</th>\n",
       "      <td>0.260525</td>\n",
       "      <td>5.781575</td>\n",
       "      <td>0.546824</td>\n",
       "    </tr>\n",
       "    <tr>\n",
       "      <th>82</th>\n",
       "      <td>0.792184</td>\n",
       "      <td>7.376553</td>\n",
       "      <td>0.043187</td>\n",
       "    </tr>\n",
       "    <tr>\n",
       "      <th>83</th>\n",
       "      <td>0.305907</td>\n",
       "      <td>5.917720</td>\n",
       "      <td>0.481766</td>\n",
       "    </tr>\n",
       "    <tr>\n",
       "      <th>84</th>\n",
       "      <td>0.129463</td>\n",
       "      <td>5.388388</td>\n",
       "      <td>0.757835</td>\n",
       "    </tr>\n",
       "    <tr>\n",
       "      <th>85</th>\n",
       "      <td>0.677423</td>\n",
       "      <td>7.032270</td>\n",
       "      <td>0.104056</td>\n",
       "    </tr>\n",
       "    <tr>\n",
       "      <th>86</th>\n",
       "      <td>0.110632</td>\n",
       "      <td>5.331895</td>\n",
       "      <td>0.790976</td>\n",
       "    </tr>\n",
       "    <tr>\n",
       "      <th>87</th>\n",
       "      <td>0.697935</td>\n",
       "      <td>7.093806</td>\n",
       "      <td>0.091243</td>\n",
       "    </tr>\n",
       "    <tr>\n",
       "      <th>88</th>\n",
       "      <td>0.210065</td>\n",
       "      <td>5.630195</td>\n",
       "      <td>0.623997</td>\n",
       "    </tr>\n",
       "    <tr>\n",
       "      <th>89</th>\n",
       "      <td>0.768752</td>\n",
       "      <td>7.306255</td>\n",
       "      <td>0.053476</td>\n",
       "    </tr>\n",
       "    <tr>\n",
       "      <th>90</th>\n",
       "      <td>1.960542</td>\n",
       "      <td>10.881626</td>\n",
       "      <td>0.922641</td>\n",
       "    </tr>\n",
       "    <tr>\n",
       "      <th>91</th>\n",
       "      <td>1.297200</td>\n",
       "      <td>8.891600</td>\n",
       "      <td>0.088328</td>\n",
       "    </tr>\n",
       "    <tr>\n",
       "      <th>92</th>\n",
       "      <td>1.060595</td>\n",
       "      <td>8.181786</td>\n",
       "      <td>0.003672</td>\n",
       "    </tr>\n",
       "    <tr>\n",
       "      <th>93</th>\n",
       "      <td>0.053477</td>\n",
       "      <td>5.160430</td>\n",
       "      <td>0.895906</td>\n",
       "    </tr>\n",
       "    <tr>\n",
       "      <th>94</th>\n",
       "      <td>1.193885</td>\n",
       "      <td>8.581656</td>\n",
       "      <td>0.037591</td>\n",
       "    </tr>\n",
       "    <tr>\n",
       "      <th>95</th>\n",
       "      <td>0.088127</td>\n",
       "      <td>5.264381</td>\n",
       "      <td>0.831512</td>\n",
       "    </tr>\n",
       "    <tr>\n",
       "      <th>96</th>\n",
       "      <td>0.660071</td>\n",
       "      <td>6.980212</td>\n",
       "      <td>0.115552</td>\n",
       "    </tr>\n",
       "    <tr>\n",
       "      <th>97</th>\n",
       "      <td>1.682599</td>\n",
       "      <td>10.047797</td>\n",
       "      <td>0.465941</td>\n",
       "    </tr>\n",
       "    <tr>\n",
       "      <th>98</th>\n",
       "      <td>1.904474</td>\n",
       "      <td>10.713421</td>\n",
       "      <td>0.818073</td>\n",
       "    </tr>\n",
       "    <tr>\n",
       "      <th>99</th>\n",
       "      <td>1.308348</td>\n",
       "      <td>8.925043</td>\n",
       "      <td>0.095078</td>\n",
       "    </tr>\n",
       "  </tbody>\n",
       "</table>\n",
       "<p>100 rows × 3 columns</p>\n",
       "</div>"
      ],
      "text/plain": [
       "           x          y         z\n",
       "0   1.215676   8.647029  0.046516\n",
       "1   1.245387   8.736160  0.060215\n",
       "2   0.373310   6.119930  0.392740\n",
       "3   0.633105   6.899314  0.134612\n",
       "4   0.880720   7.642161  0.014228\n",
       "5   1.270579   8.811737  0.073213\n",
       "6   1.305164   8.915492  0.093125\n",
       "7   1.988547  10.965640  0.977225\n",
       "8   0.795484   7.386452  0.041827\n",
       "9   0.657217   6.971650  0.117500\n",
       "10  0.291484   5.874453  0.501994\n",
       "11  1.497313   9.491940  0.247320\n",
       "12  1.082202   8.246607  0.006757\n",
       "13  1.510965   9.532895  0.261085\n",
       "14  1.432264   9.296793  0.186852\n",
       "15  1.902797  10.708390  0.815042\n",
       "16  0.416264   6.248791  0.340748\n",
       "17  1.342218   9.026654  0.117113\n",
       "18  0.845850   7.537550  0.023762\n",
       "19  0.023760   5.071280  0.953045\n",
       "20  0.700170   7.100511  0.089898\n",
       "21  1.036225   8.108676  0.001312\n",
       "22  0.802753   7.408259  0.038906\n",
       "23  0.066923   5.200768  0.870633\n",
       "24  0.062627   5.187881  0.878668\n",
       "25  1.311070   8.933211  0.096765\n",
       "26  0.505147   6.515441  0.244880\n",
       "27  1.534074   9.602221  0.285235\n",
       "28  0.647073   6.941219  0.124557\n",
       "29  1.146232   8.438695  0.021384\n",
       "..       ...        ...       ...\n",
       "70  1.673178  10.019533  0.453168\n",
       "71  1.819661  10.458983  0.671844\n",
       "72  1.456491   9.369472  0.208384\n",
       "73  0.026892   5.080677  0.946939\n",
       "74  0.122451   5.367353  0.770092\n",
       "75  0.877854   7.633563  0.014920\n",
       "76  1.065057   8.195171  0.004232\n",
       "77  1.081475   8.244425  0.006638\n",
       "78  1.315548   8.946645  0.099571\n",
       "79  1.140238   8.420714  0.019667\n",
       "80  0.003898   5.011695  0.992218\n",
       "81  0.260525   5.781575  0.546824\n",
       "82  0.792184   7.376553  0.043187\n",
       "83  0.305907   5.917720  0.481766\n",
       "84  0.129463   5.388388  0.757835\n",
       "85  0.677423   7.032270  0.104056\n",
       "86  0.110632   5.331895  0.790976\n",
       "87  0.697935   7.093806  0.091243\n",
       "88  0.210065   5.630195  0.623997\n",
       "89  0.768752   7.306255  0.053476\n",
       "90  1.960542  10.881626  0.922641\n",
       "91  1.297200   8.891600  0.088328\n",
       "92  1.060595   8.181786  0.003672\n",
       "93  0.053477   5.160430  0.895906\n",
       "94  1.193885   8.581656  0.037591\n",
       "95  0.088127   5.264381  0.831512\n",
       "96  0.660071   6.980212  0.115552\n",
       "97  1.682599  10.047797  0.465941\n",
       "98  1.904474  10.713421  0.818073\n",
       "99  1.308348   8.925043  0.095078\n",
       "\n",
       "[100 rows x 3 columns]"
      ]
     },
     "execution_count": 87,
     "metadata": {},
     "output_type": "execute_result"
    }
   ],
   "source": [
    "y = 3*x+5\n",
    "z = (x-1)**2\n",
    "\n",
    "df['y']= y\n",
    "df['z']= z\n",
    "\n",
    "df"
   ]
  },
  {
   "cell_type": "markdown",
   "metadata": {
    "deletable": false,
    "editable": false,
    "nbgrader": {
     "checksum": "42f4e83dc3792b0d2a08cda8eb7d4405",
     "grade": false,
     "grade_id": "cell-4b33762aa4a601fe",
     "locked": true,
     "schema_version": 1,
     "solution": false
    }
   },
   "source": [
    "#### c) [0.5 point] Calculate the means and standard deviations for `x` and `y`. \n",
    "\n",
    "[hint: you can do this with one command or with four separate commands]"
   ]
  },
  {
   "cell_type": "code",
   "execution_count": 88,
   "metadata": {
    "deletable": false,
    "nbgrader": {
     "checksum": "024a1519155d681b57c85292df535a65",
     "grade": true,
     "grade_id": "cell-5ee215676b91f504",
     "locked": false,
     "points": 0.5,
     "schema_version": 1,
     "solution": true
    }
   },
   "outputs": [
    {
     "name": "stdout",
     "output_type": "stream",
     "text": [
      "0.916255425039\n",
      "0.556330492417\n",
      "7.74876627512\n",
      "1.66899147725\n"
     ]
    }
   ],
   "source": [
    "mean_x = np.mean(df['x'])\n",
    "std_x = np.std(df['x'])\n",
    "\n",
    "mean_y = np.mean(df['y'])\n",
    "std_y = np.std(df['y'])\n",
    "\n",
    "print(mean_x)\n",
    "print(std_x)\n",
    "print(mean_y)\n",
    "print(std_y)"
   ]
  },
  {
   "cell_type": "markdown",
   "metadata": {
    "deletable": false,
    "editable": false,
    "nbgrader": {
     "checksum": "12a2717f05680c0404067457f21dacc5",
     "grade": false,
     "grade_id": "cell-3cc076ae39753881",
     "locked": true,
     "schema_version": 1,
     "solution": false
    }
   },
   "source": [
    "#### d) [0.5 points] Use your knowledge of statistics to explain the relations (i) between the means of `x` and `y` and (ii) between the standard deviations of `x` and `y`."
   ]
  },
  {
   "cell_type": "code",
   "execution_count": null,
   "metadata": {
    "deletable": false,
    "nbgrader": {
     "checksum": "6ac5f7f87f79a5a580298b70eb6603c6",
     "grade": true,
     "grade_id": "cell-0f18e4fded25833f",
     "locked": false,
     "points": 0.5,
     "schema_version": 1,
     "solution": true
    }
   },
   "outputs": [],
   "source": []
  },
  {
   "cell_type": "markdown",
   "metadata": {},
   "source": [
    "#### e) [1 point] Plot a histogram of `x` with fractions (not absolute numbers) on the vertical axis. Add the label $x$ to the horizontal axis."
   ]
  },
  {
   "cell_type": "code",
   "execution_count": 115,
   "metadata": {
    "deletable": false,
    "nbgrader": {
     "checksum": "0f23770a6c058f433beccc75429b57dc",
     "grade": true,
     "grade_id": "cell-e88dc4842fb2c38c",
     "locked": false,
     "points": 1,
     "schema_version": 1,
     "solution": true
    }
   },
   "outputs": [
    {
     "data": {
      "image/png": "[encoded data removed]",
      "text/plain": [
       "<matplotlib.figure.Figure at 0x7fe040674ef0>"
      ]
     },
     "metadata": {},
     "output_type": "display_data"
    }
   ],
   "source": [
    "plt.hist(df.x, normed =True,bins = 30)\n",
    "plt.xlabel('$X$')\n",
    "plt.yticks( [1.2, 1.0, 0.8, 0.6,0.4,0.2,0],\n",
    "        ['6/5', '5/5', '4/5', '3/5','2/5','1/5',0])\n",
    "plt.show()"
   ]
  },
  {
   "cell_type": "markdown",
   "metadata": {
    "deletable": false,
    "editable": false,
    "nbgrader": {
     "checksum": "da92092c0fc6badf93776373de6f98c0",
     "grade": false,
     "grade_id": "cell-9847a5147fc6bc0b",
     "locked": true,
     "schema_version": 1,
     "solution": false
    }
   },
   "source": [
    "#### f) [0.5 points] Make a scatter plot of `y` vs `z` with the label $y$ on the horizontal axis and the label $z$ on the vertical axis."
   ]
  },
  {
   "cell_type": "code",
   "execution_count": 90,
   "metadata": {
    "deletable": false,
    "nbgrader": {
     "checksum": "d9385c965608e0babffe255a7d375e19",
     "grade": true,
     "grade_id": "cell-6c036cfb38c024d3",
     "locked": false,
     "points": 0.5,
     "schema_version": 1,
     "solution": true
    }
   },
   "outputs": [
    {
     "data": {
      "text/plain": [
       "<matplotlib.text.Text at 0x7fe041376668>"
      ]
     },
     "execution_count": 90,
     "metadata": {},
     "output_type": "execute_result"
    },
    {
     "data": {
      "image/png": "[encoded data removed]",
      "text/plain": [
       "<matplotlib.figure.Figure at 0x7fe0411df710>"
      ]
     },
     "metadata": {},
     "output_type": "display_data"
    }
   ],
   "source": [
    "plt.scatter(df.y,df.z)\n",
    "plt.xlabel('$Y$')\n",
    "plt.ylabel('$Z$')"
   ]
  },
  {
   "cell_type": "markdown",
   "metadata": {},
   "source": [
    "This relation looks rather \"perfect\". We want to make a \"noisy\" version of this graph.\n",
    "\n",
    "#### g) [0.5 points] Create a variable `z2` equal to `z` but with some \"noise\" added to it. That is, add a random variable (vector) with mean 0 to `z` to get `z2`. Then plot `y` against `z2`. Adjust the standard deviation of the \"noise\" variable such that the shape of the figure under f) can still be recognized but not perfectly.\n",
    "\n",
    "[hint: under a) you have seen the library that contains functions to create a \"noisy variable\"]"
   ]
  },
  {
   "cell_type": "code",
   "execution_count": 91,
   "metadata": {
    "deletable": false,
    "nbgrader": {
     "checksum": "86b22fc81cb0732c67f8ae691dc00bcb",
     "grade": true,
     "grade_id": "cell-7fa47e5d66a06417",
     "locked": false,
     "points": 0.5,
     "schema_version": 1,
     "solution": true
    }
   },
   "outputs": [
    {
     "data": {
      "text/plain": [
       "<matplotlib.collections.PathCollection at 0x7fe041119828>"
      ]
     },
     "execution_count": 91,
     "metadata": {},
     "output_type": "execute_result"
    },
    {
     "data": {
      "image/png": "[encoded data removed]",
      "text/plain": [
       "<matplotlib.figure.Figure at 0x7fe041195e80>"
      ]
     },
     "metadata": {},
     "output_type": "display_data"
    }
   ],
   "source": [
    "z2 = z+np.random.uniform(0,0.2,size=n_observations)\n",
    "\n",
    "df['z2'] = z2\n",
    "\n",
    "plt.scatter(df.y,df.z2)\n"
   ]
  },
  {
   "cell_type": "markdown",
   "metadata": {},
   "source": [
    "## Github\n",
    "\n",
    "After you have finished, we need to upload this notebook on github."
   ]
  },
  {
   "cell_type": "markdown",
   "metadata": {},
   "source": [
    "Instructions on how to upload this on github can be found [on this page](http://janboone.github.io/programming-for-economists/github.html). This page has two screencasts: one shows how to drag the notebook onto your github page, the other shows how you can use the command line to upload your notebook.\n"
   ]
  },
  {
   "cell_type": "markdown",
   "metadata": {},
   "source": [
    "Remember to update the README file in your repository to include a link to this notebook on github.\n",
    "\n",
    "\n",
    "The links that you should post start with “github.com/” and are NOT of the form “http://localhost”. Make sure you test your links after uploading."
   ]
  },
  {
   "cell_type": "code",
   "execution_count": null,
   "metadata": {},
   "outputs": [],
   "source": []
  }
 ],
 "metadata": {
  "anaconda-cloud": {},
  "kernelspec": {
   "display_name": "Python 3",
   "language": "python",
   "name": "python3"
  },
  "language_info": {
   "codemirror_mode": {
    "name": "ipython",
    "version": 3
   },
   "file_extension": ".py",
   "mimetype": "text/x-python",
   "name": "python",
   "nbconvert_exporter": "python",
   "pygments_lexer": "ipython3",
   "version": "3.5.3"
  }
 },
 "nbformat": 4,
 "nbformat_minor": 1
}
